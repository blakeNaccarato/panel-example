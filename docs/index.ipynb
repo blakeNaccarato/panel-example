{
 "cells": [
  {
   "cell_type": "markdown",
   "metadata": {},
   "source": [
    "# Panel example\n",
    "\n",
    "::::\n",
    ":::{thebe-button}\n",
    ":::\n",
    "::::"
   ]
  },
  {
   "cell_type": "code",
   "execution_count": null,
   "metadata": {},
   "outputs": [],
   "source": [
    "from bokeh.io import output_notebook\n",
    "\n",
    "output_notebook()\n",
    "\n",
    "import altair as alt\n",
    "from bokeh.plotting import figure, show\n",
    "import hvplot.pandas  # noqa: F401, F811\n",
    "import numpy as np  # noqa: F811\n",
    "import pandas as pd\n",
    "import panel as pn\n",
    "import plotly.express as px"
   ]
  },
  {
   "cell_type": "code",
   "execution_count": null,
   "metadata": {},
   "outputs": [],
   "source": [
    "PRIMARY_COLOR = \"#0072B5\"\n",
    "SECONDARY_COLOR = \"#B54300\"\n",
    "CSV_FILE = (\n",
    "    \"https://raw.githubusercontent.com/holoviz/panel/main/examples/assets/occupancy.csv\"\n",
    ")\n",
    "\n",
    "\n",
    "@pn.cache\n",
    "def get_data():\n",
    "    return pd.read_csv(CSV_FILE, parse_dates=[\"date\"], index_col=\"date\")\n",
    "\n",
    "\n",
    "data = get_data()\n",
    "\n",
    "\n",
    "def transform_data(variable, window, sigma):\n",
    "    \"\"\"Calculates the rolling average and identifies outliers\"\"\"\n",
    "    avg = data[variable].rolling(window=window).mean()\n",
    "    residual = data[variable] - avg\n",
    "    std = residual.rolling(window=window).std()\n",
    "    outliers = np.abs(residual) > std * sigma\n",
    "    return avg, avg[outliers]\n",
    "\n",
    "\n",
    "def get_plot(variable=\"Temperature\", window=30, sigma=10):\n",
    "    \"\"\"Plots the rolling average and the outliers\"\"\"\n",
    "    avg, highlight = transform_data(variable, window, sigma)\n",
    "    return avg.hvplot(\n",
    "        height=300, legend=False, color=PRIMARY_COLOR\n",
    "    ) * highlight.hvplot.scatter(color=SECONDARY_COLOR, padding=0.1, legend=False)\n",
    "\n",
    "\n",
    "variable = pn.widgets.Select(\n",
    "    name=\"variable\", value=\"Temperature\", options=list(data.columns)\n",
    ")\n",
    "window = pn.widgets.IntSlider(name=\"window\", value=30, start=1, end=60)\n",
    "sigma = pn.widgets.IntSlider(name=\"sigma\", value=10, start=0, end=20)\n",
    "plot = pn.bind(get_plot, variable=variable, window=window, sigma=sigma)\n",
    "grid_box = pn.GridBox(variable, window, sigma, plot)\n",
    "grid_box.servable()\n",
    "grid_box"
   ]
  },
  {
   "cell_type": "code",
   "execution_count": null,
   "metadata": {},
   "outputs": [],
   "source": [
    "data = px.data.iris()\n",
    "data.head()\n",
    "p = figure()\n",
    "p.circle(\n",
    "    data[\"sepal_width\"],\n",
    "    data[\"sepal_length\"],\n",
    "    fill_color=data[\"species\"],\n",
    "    size=data[\"sepal_length\"],\n",
    ")\n",
    "show(p)"
   ]
  },
  {
   "cell_type": "code",
   "execution_count": null,
   "metadata": {},
   "outputs": [],
   "source": [
    "alt.Chart(data=data).mark_point().encode(\n",
    "    x=\"sepal_width\", y=\"sepal_length\", color=\"species\", size=\"sepal_length\"\n",
    ")\n"
   ]
  }
 ],
 "metadata": {
  "kernelspec": {
   "display_name": "panel-example (3.11.10)",
   "language": "python",
   "name": "python3"
  },
  "language_info": {
   "codemirror_mode": {
    "name": "ipython",
    "version": 3
   },
   "file_extension": ".py",
   "mimetype": "text/x-python",
   "name": "python",
   "nbconvert_exporter": "python",
   "pygments_lexer": "ipython3",
   "version": "3.11.10"
  }
 },
 "nbformat": 4,
 "nbformat_minor": 2
}
